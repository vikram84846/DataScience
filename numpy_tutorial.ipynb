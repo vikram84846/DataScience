{
 "cells": [
  {
   "cell_type": "markdown",
   "id": "5df5833d",
   "metadata": {},
   "source": [
    "# NumPy Array Tutorial\n",
    "This tutorial covers essential NumPy concepts, including array creation, attributes, operations, broadcasting, storage order, and linear algebra basics."
   ]
  },
  {
   "cell_type": "markdown",
   "id": "5f9b95f2",
   "metadata": {},
   "source": [
    "## Introduction\n",
    "NumPy is a powerful Python library for numerical computing. It provides support for large, multi-dimensional arrays and matrices, along with mathematical functions to operate on these arrays efficiently."
   ]
  },
  {
   "cell_type": "code",
   "execution_count": 1,
   "id": "5a3a6618",
   "metadata": {},
   "outputs": [],
   "source": [
    "import numpy as np"
   ]
  },
  {
   "cell_type": "markdown",
   "id": "ceeb2ab1",
   "metadata": {},
   "source": [
    "## Creating NumPy Arrays\n",
    "NumPy provides various methods to create arrays:"
   ]
  },
  {
   "cell_type": "code",
   "execution_count": 2,
   "id": "b0516d96",
   "metadata": {},
   "outputs": [
    {
     "data": {
      "text/plain": [
       "(array([1, 2, 3, 4, 5]),\n",
       " array([[0., 0., 0.],\n",
       "        [0., 0., 0.],\n",
       "        [0., 0., 0.]]),\n",
       " array([[1., 1., 1., 1.],\n",
       "        [1., 1., 1., 1.]]),\n",
       " array([ 0. ,  2.5,  5. ,  7.5, 10. ]),\n",
       " array([0, 2, 4, 6, 8]),\n",
       " array([[1., 0., 0., 0.],\n",
       "        [0., 1., 0., 0.],\n",
       "        [0., 0., 1., 0.],\n",
       "        [0., 0., 0., 1.]]),\n",
       " array([[1, 0, 0, 0],\n",
       "        [0, 2, 0, 0],\n",
       "        [0, 0, 3, 0],\n",
       "        [0, 0, 0, 4]]))"
      ]
     },
     "execution_count": 2,
     "metadata": {},
     "output_type": "execute_result"
    }
   ],
   "source": [
    "# Creating arrays using different methods\n",
    "a = np.array([1, 2, 3, 4, 5])  # Using array()\n",
    "b = np.zeros((3, 3))  # Using zeros()\n",
    "c = np.ones((2, 4))  # Using ones()\n",
    "d = np.linspace(0, 10, 5)  # Using linspace()\n",
    "e = np.arange(0, 10, 2)  # Using arange()\n",
    "f = np.eye(4)  # Using eye() for identity matrix\n",
    "g = np.diag([1, 2, 3, 4])  # Using diag()\n",
    "a, b, c, d, e, f, g"
   ]
  },
  {
   "cell_type": "markdown",
   "id": "90ad5847",
   "metadata": {},
   "source": [
    "## Difference Between Lists and NumPy Arrays\n",
    "NumPy arrays support element-wise operations, whereas lists behave differently."
   ]
  },
  {
   "cell_type": "code",
   "execution_count": 3,
   "id": "8e97f7ac",
   "metadata": {},
   "outputs": [
    {
     "name": "stdout",
     "output_type": "stream",
     "text": [
      "List addition: [1, 2, 3, 4, 1, 2, 3, 4]\n",
      "NumPy array addition: [2 4 6 8]\n",
      "List multiplication: [1, 2, 3, 4, 1, 2, 3, 4]\n",
      "NumPy array multiplication: [2 4 6 8]\n"
     ]
    }
   ],
   "source": [
    "# List vs NumPy array operations\n",
    "list1 = [1, 2, 3, 4]\n",
    "array1 = np.array([1, 2, 3, 4])\n",
    "\n",
    "print('List addition:', list1 + list1)  # Concatenation\n",
    "print('NumPy array addition:', array1 + array1)  # Element-wise addition\n",
    "\n",
    "print('List multiplication:', list1 * 2)  # Repeats list\n",
    "print('NumPy array multiplication:', array1 * 2)  # Element-wise multiplication"
   ]
  },
  {
   "cell_type": "markdown",
   "id": "03c53126",
   "metadata": {},
   "source": [
    "## Important Array Methods\n",
    "NumPy provides several useful functions to analyze arrays:"
   ]
  },
  {
   "cell_type": "code",
   "execution_count": 5,
   "id": "3d197c00",
   "metadata": {},
   "outputs": [
    {
     "name": "stdout",
     "output_type": "stream",
     "text": [
      "Max: 20\n",
      "Min: 5\n",
      "Sum: 43\n",
      "Index of max: 1\n",
      "Index of min: 2\n"
     ]
    }
   ],
   "source": [
    "# Array functions\n",
    "arr = np.array([10, 20, 5, 8])\n",
    "print('Max:', arr.max())\n",
    "print('Min:', arr.min())\n",
    "print('Sum:', arr.sum())\n",
    "print('Index of max:', arr.argmax())\n",
    "print('Index of min:', arr.argmin())"
   ]
  },
  {
   "cell_type": "markdown",
   "id": "18cd3fe3",
   "metadata": {},
   "source": [
    "## Broadcasting in NumPy\n",
    "Broadcasting allows NumPy to perform operations on arrays of different shapes."
   ]
  },
  {
   "cell_type": "code",
   "execution_count": 6,
   "id": "9295d350",
   "metadata": {},
   "outputs": [
    {
     "name": "stdout",
     "output_type": "stream",
     "text": [
      "[[2 4 6]\n",
      " [5 7 9]]\n"
     ]
    }
   ],
   "source": [
    "# Broadcasting example\n",
    "A = np.array([[1, 2, 3], [4, 5, 6]])\n",
    "B = np.array([1, 2, 3])  # Shape (3,)\n",
    "C = A + B  # Broadcasting\n",
    "print(C)"
   ]
  },
  {
   "cell_type": "markdown",
   "id": "72253e49",
   "metadata": {},
   "source": [
    "## Row-Major and Column-Major Storage\n",
    "NumPy stores arrays in row-major order by default, but you can change it to column-major using `order='F'`."
   ]
  },
  {
   "cell_type": "code",
   "execution_count": 7,
   "id": "f367febc",
   "metadata": {},
   "outputs": [
    {
     "name": "stdout",
     "output_type": "stream",
     "text": [
      "Row-major: [1 2 3 4]\n",
      "Column-major: [1 3 2 4]\n"
     ]
    }
   ],
   "source": [
    "# Row-major vs Column-major\n",
    "arr = np.array([[1, 2], [3, 4]], order='C')\n",
    "print('Row-major:', arr.flatten(order='C'))\n",
    "print('Column-major:', arr.flatten(order='F'))"
   ]
  },
  {
   "cell_type": "markdown",
   "id": "58c7d8b3",
   "metadata": {},
   "source": [
    "## Array Attributes\n",
    "Some important attributes of NumPy arrays include:"
   ]
  },
  {
   "cell_type": "code",
   "execution_count": 8,
   "id": "b18780bd",
   "metadata": {},
   "outputs": [
    {
     "name": "stdout",
     "output_type": "stream",
     "text": [
      "Shape: (2, 3)\n",
      "Number of dimensions: 2\n"
     ]
    }
   ],
   "source": [
    "# Array attributes\n",
    "arr = np.array([[1, 2, 3], [4, 5, 6]])\n",
    "print('Shape:', arr.shape)\n",
    "print('Number of dimensions:', arr.ndim)"
   ]
  },
  {
   "cell_type": "markdown",
   "id": "3bca4af7",
   "metadata": {},
   "source": [
    "## Concept of Axis in NumPy\n",
    "Axis 0 refers to rows (vertical operations), while Axis 1 refers to columns (horizontal operations)."
   ]
  },
  {
   "cell_type": "code",
   "execution_count": 9,
   "id": "5342be69",
   "metadata": {},
   "outputs": [
    {
     "name": "stdout",
     "output_type": "stream",
     "text": [
      "Sum along axis 0: [4 6]\n",
      "Sum along axis 1: [3 7]\n"
     ]
    }
   ],
   "source": [
    "# Axis example\n",
    "arr = np.array([[1, 2], [3, 4]])\n",
    "print('Sum along axis 0:', arr.sum(axis=0))  # Column-wise sum\n",
    "print('Sum along axis 1:', arr.sum(axis=1))  # Row-wise sum"
   ]
  },
  {
   "cell_type": "markdown",
   "id": "3cda4235",
   "metadata": {},
   "source": [
    "## Reshaping Arrays\n",
    "We can reshape arrays into different dimensions."
   ]
  },
  {
   "cell_type": "code",
   "execution_count": null,
   "id": "a171f250",
   "metadata": {},
   "outputs": [],
   "source": [
    "# Reshaping example\n",
    "arr = np.arange(6).reshape(2, 3)\n",
    "print(arr)"
   ]
  },
  {
   "cell_type": "markdown",
   "id": "9ddf1783",
   "metadata": {},
   "source": [
    "## Splitting Arrays\n",
    "NumPy provides functions to split arrays into multiple parts."
   ]
  },
  {
   "cell_type": "code",
   "execution_count": null,
   "id": "75937c3d",
   "metadata": {},
   "outputs": [],
   "source": [
    "# Splitting an array\n",
    "arr = np.array([1, 2, 3, 4, 5, 6])\n",
    "split_arr = np.split(arr, 3)\n",
    "print(split_arr)"
   ]
  },
  {
   "cell_type": "markdown",
   "id": "579cc601",
   "metadata": {},
   "source": [
    "## hsplit vs vsplit\n",
    "- `hsplit()` splits along columns (horizontally)\n",
    "- `vsplit()` splits along rows (vertically)"
   ]
  },
  {
   "cell_type": "code",
   "execution_count": null,
   "id": "c6021bd7",
   "metadata": {},
   "outputs": [],
   "source": [
    "# hsplit vs vsplit\n",
    "arr = np.arange(16).reshape(4, 4)\n",
    "print('Horizontal Split:', np.hsplit(arr, 2))\n",
    "print('Vertical Split:', np.vsplit(arr, 2))"
   ]
  },
  {
   "cell_type": "markdown",
   "id": "ed349c9e",
   "metadata": {},
   "source": [
    "## Stacking Arrays\n",
    "NumPy allows stacking arrays vertically and horizontally."
   ]
  },
  {
   "cell_type": "code",
   "execution_count": null,
   "id": "b1c52e31",
   "metadata": {},
   "outputs": [],
   "source": [
    "# Stacking arrays\n",
    "a = np.array([1, 2, 3])\n",
    "b = np.array([4, 5, 6])\n",
    "print('Horizontal Stack:', np.hstack((a, b)))\n",
    "print('Vertical Stack:', np.vstack((a, b)))"
   ]
  },
  {
   "cell_type": "markdown",
   "id": "fddf4099",
   "metadata": {},
   "source": [
    "## Simple Linear Algebra with NumPy\n",
    "NumPy provides functions for basic linear algebra operations."
   ]
  },
  {
   "cell_type": "code",
   "execution_count": null,
   "id": "4362bd27",
   "metadata": {},
   "outputs": [],
   "source": [
    "# Linear algebra example\n",
    "A = np.array([[1, 2], [3, 4]])\n",
    "B = np.array([[5, 6], [7, 8]])\n",
    "print('Matrix Multiplication:', np.dot(A, B))\n",
    "print('Transpose of A:', A.T)"
   ]
  }
 ],
 "metadata": {
  "kernelspec": {
   "display_name": "Python 3 (ipykernel)",
   "language": "python",
   "name": "python3"
  },
  "language_info": {
   "codemirror_mode": {
    "name": "ipython",
    "version": 3
   },
   "file_extension": ".py",
   "mimetype": "text/x-python",
   "name": "python",
   "nbconvert_exporter": "python",
   "pygments_lexer": "ipython3",
   "version": "3.10.9"
  }
 },
 "nbformat": 4,
 "nbformat_minor": 5
}

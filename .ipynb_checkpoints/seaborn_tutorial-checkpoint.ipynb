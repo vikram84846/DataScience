{
 "cells": [
  {
   "cell_type": "markdown",
   "id": "2afcf465",
   "metadata": {},
   "source": [
    "# Seaborn Tutorial\n",
    "This notebook covers essential concepts of **Seaborn**, a Python library for statistical data visualization."
   ]
  },
  {
   "cell_type": "code",
   "execution_count": null,
   "id": "65fc694e",
   "metadata": {},
   "outputs": [],
   "source": [
    "import seaborn as sns\n",
    "import matplotlib.pyplot as plt\n",
    "import numpy as np\n",
    "import pandas as pd"
   ]
  },
  {
   "cell_type": "markdown",
   "id": "b5e45a58",
   "metadata": {},
   "source": [
    "## Loading Sample Data\n",
    "Seaborn provides built-in datasets for easy visualization."
   ]
  },
  {
   "cell_type": "code",
   "execution_count": null,
   "id": "4cdde497",
   "metadata": {},
   "outputs": [],
   "source": [
    "df = sns.load_dataset('tips')\n",
    "df.head()"
   ]
  },
  {
   "cell_type": "markdown",
   "id": "7cb2af63",
   "metadata": {},
   "source": [
    "## Bar Plot\n",
    "A bar plot is useful for comparing categorical data."
   ]
  },
  {
   "cell_type": "code",
   "execution_count": null,
   "id": "9e731888",
   "metadata": {},
   "outputs": [],
   "source": [
    "sns.barplot(x='day', y='total_bill', data=df)\n",
    "plt.title('Average Bill per Day')\n",
    "plt.show()"
   ]
  },
  {
   "cell_type": "markdown",
   "id": "50f072bb",
   "metadata": {},
   "source": [
    "## Histogram & KDE Plot\n",
    "Seaborn provides `histplot` and `kdeplot` for distribution visualization."
   ]
  },
  {
   "cell_type": "code",
   "execution_count": null,
   "id": "c26a8100",
   "metadata": {},
   "outputs": [],
   "source": [
    "sns.histplot(df['total_bill'], bins=20, kde=True)\n",
    "plt.title('Total Bill Distribution')\n",
    "plt.show()"
   ]
  },
  {
   "cell_type": "markdown",
   "id": "525ef19d",
   "metadata": {},
   "source": [
    "## Box Plot\n",
    "Box plots are useful for visualizing data distributions and outliers."
   ]
  },
  {
   "cell_type": "code",
   "execution_count": null,
   "id": "4eb07afe",
   "metadata": {},
   "outputs": [],
   "source": [
    "sns.boxplot(x='day', y='total_bill', data=df)\n",
    "plt.title('Total Bill by Day')\n",
    "plt.show()"
   ]
  },
  {
   "cell_type": "markdown",
   "id": "9488983e",
   "metadata": {},
   "source": [
    "## Pairplot\n",
    "Pair plots show pairwise relationships in a dataset."
   ]
  },
  {
   "cell_type": "code",
   "execution_count": null,
   "id": "c6415650",
   "metadata": {},
   "outputs": [],
   "source": [
    "sns.pairplot(df, hue='sex')\n",
    "plt.show()"
   ]
  },
  {
   "cell_type": "markdown",
   "id": "408390b1",
   "metadata": {},
   "source": [
    "## Correlation Heatmap\n",
    "Heatmaps show relationships between numerical variables."
   ]
  },
  {
   "cell_type": "code",
   "execution_count": null,
   "id": "49018f1c",
   "metadata": {},
   "outputs": [],
   "source": [
    "corr = df.corr()\n",
    "sns.heatmap(corr, annot=True, cmap='coolwarm')\n",
    "plt.title('Correlation Heatmap')\n",
    "plt.show()"
   ]
  }
 ],
 "metadata": {},
 "nbformat": 4,
 "nbformat_minor": 5
}

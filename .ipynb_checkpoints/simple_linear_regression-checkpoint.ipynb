{
 "cells": [
  {
   "cell_type": "markdown",
   "id": "d1e1c55a",
   "metadata": {},
   "source": [
    "# Simple Linear Regression Tutorial\n",
    "This notebook covers the fundamentals of **Simple Linear Regression** and uses a dummy dataset for training and testing."
   ]
  },
  {
   "cell_type": "code",
   "execution_count": null,
   "id": "af852578",
   "metadata": {},
   "outputs": [],
   "source": [
    "import numpy as np\n",
    "import pandas as pd\n",
    "import matplotlib.pyplot as plt\n",
    "from sklearn.model_selection import train_test_split\n",
    "from sklearn.linear_model import LinearRegression\n",
    "from sklearn.metrics import mean_squared_error, r2_score"
   ]
  },
  {
   "cell_type": "markdown",
   "id": "2fe6c1ef",
   "metadata": {},
   "source": [
    "## Loading Dataset\n",
    "We will load our dummy dataset and explore its structure."
   ]
  },
  {
   "cell_type": "code",
   "execution_count": null,
   "id": "e32bc685",
   "metadata": {},
   "outputs": [],
   "source": [
    "df = pd.read_csv('dummy_linear_regression_data.csv')\n",
    "df.head()"
   ]
  },
  {
   "cell_type": "markdown",
   "id": "abed4a57",
   "metadata": {},
   "source": [
    "## Data Visualization\n",
    "Let's visualize the dataset to understand the relationship between Feature and Target."
   ]
  },
  {
   "cell_type": "code",
   "execution_count": null,
   "id": "d686341c",
   "metadata": {},
   "outputs": [],
   "source": [
    "plt.scatter(df['Feature'], df['Target'], color='blue', alpha=0.5)\n",
    "plt.xlabel('Feature')\n",
    "plt.ylabel('Target')\n",
    "plt.title('Scatter Plot of Feature vs Target')\n",
    "plt.show()"
   ]
  },
  {
   "cell_type": "markdown",
   "id": "a9fa2ad7",
   "metadata": {},
   "source": [
    "## Splitting Dataset into Train and Test Sets\n",
    "We will split our data into training (80%) and testing (20%) sets."
   ]
  },
  {
   "cell_type": "code",
   "execution_count": null,
   "id": "11eeb902",
   "metadata": {},
   "outputs": [],
   "source": [
    "X = df[['Feature']]\n",
    "y = df['Target']\n",
    "X_train, X_test, y_train, y_test = train_test_split(X, y, test_size=0.2, random_state=42)"
   ]
  },
  {
   "cell_type": "markdown",
   "id": "8f5943a8",
   "metadata": {},
   "source": [
    "## Training Linear Regression Model\n",
    "We will train a Simple Linear Regression model using `sklearn`."
   ]
  },
  {
   "cell_type": "code",
   "execution_count": null,
   "id": "ddc10ee1",
   "metadata": {},
   "outputs": [],
   "source": [
    "model = LinearRegression()\n",
    "model.fit(X_train, y_train)\n",
    "print(f'Intercept: {model.intercept_}')\n",
    "print(f'Coefficient: {model.coef_[0]}')"
   ]
  },
  {
   "cell_type": "markdown",
   "id": "398da3ea",
   "metadata": {},
   "source": [
    "## Making Predictions\n",
    "We will now use our trained model to make predictions on the test set."
   ]
  },
  {
   "cell_type": "code",
   "execution_count": null,
   "id": "074afb86",
   "metadata": {},
   "outputs": [],
   "source": [
    "y_pred = model.predict(X_test)\n",
    "plt.scatter(X_test, y_test, color='blue', label='Actual')\n",
    "plt.plot(X_test, y_pred, color='red', linewidth=2, label='Predicted')\n",
    "plt.xlabel('Feature')\n",
    "plt.ylabel('Target')\n",
    "plt.title('Linear Regression Prediction')\n",
    "plt.legend()\n",
    "plt.show()"
   ]
  },
  {
   "cell_type": "markdown",
   "id": "3f341a9f",
   "metadata": {},
   "source": [
    "## Model Evaluation\n",
    "We will evaluate the model using **Mean Squared Error (MSE)** and **R² Score**."
   ]
  },
  {
   "cell_type": "code",
   "execution_count": null,
   "id": "99f93564",
   "metadata": {},
   "outputs": [],
   "source": [
    "mse = mean_squared_error(y_test, y_pred)\n",
    "r2 = r2_score(y_test, y_pred)\n",
    "print(f'Mean Squared Error: {mse}')\n",
    "print(f'R² Score: {r2}')"
   ]
  }
 ],
 "metadata": {},
 "nbformat": 4,
 "nbformat_minor": 5
}

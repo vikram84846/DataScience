{
 "cells": [
  {
   "cell_type": "markdown",
   "id": "6b3eac49",
   "metadata": {},
   "source": [
    "# Pandas Tutorial\n",
    "This tutorial covers the fundamental concepts of Pandas, a powerful data manipulation library in Python."
   ]
  },
  {
   "cell_type": "markdown",
   "id": "d10420c9",
   "metadata": {},
   "source": [
    "## Introduction\n",
    "Pandas is a Python library used for data analysis and manipulation. It provides powerful tools for working with structured data."
   ]
  },
  {
   "cell_type": "code",
   "execution_count": null,
   "id": "e9baa8d6",
   "metadata": {},
   "outputs": [],
   "source": [
    "import pandas as pd\n",
    "import numpy as np"
   ]
  },
  {
   "cell_type": "markdown",
   "id": "1e8c4b70",
   "metadata": {},
   "source": [
    "## Creating Data Structures\n",
    "Pandas has two main data structures:\n",
    "- **Series**: A one-dimensional labeled array.\n",
    "- **DataFrame**: A two-dimensional table-like structure."
   ]
  },
  {
   "cell_type": "code",
   "execution_count": null,
   "id": "69515eaf",
   "metadata": {},
   "outputs": [],
   "source": [
    "# Creating a Series\n",
    "s = pd.Series([10, 20, 30, 40], index=['a', 'b', 'c', 'd'])\n",
    "print(s)\n",
    "\n",
    "# Creating a DataFrame\n",
    "data = {'Name': ['Alice', 'Bob', 'Charlie'], 'Age': [25, 30, 35]}\n",
    "df = pd.DataFrame(data)\n",
    "print(df)"
   ]
  },
  {
   "cell_type": "markdown",
   "id": "b1228908",
   "metadata": {},
   "source": [
    "## Reading and Writing Data\n",
    "Pandas supports reading from and writing to various file formats such as CSV and Excel."
   ]
  },
  {
   "cell_type": "code",
   "execution_count": null,
   "id": "5dd226cb",
   "metadata": {},
   "outputs": [],
   "source": [
    "# Reading from a CSV file\n",
    "# df = pd.read_csv('data.csv')  # Uncomment when using a real file\n",
    "\n",
    "# Writing to a CSV file\n",
    "# df.to_csv('output.csv', index=False)"
   ]
  },
  {
   "cell_type": "markdown",
   "id": "733e6135",
   "metadata": {},
   "source": [
    "## Indexing and Selecting Data\n",
    "You can select data in a DataFrame using **loc** and **iloc**."
   ]
  },
  {
   "cell_type": "code",
   "execution_count": null,
   "id": "3457895c",
   "metadata": {},
   "outputs": [],
   "source": [
    "# Selecting data using loc and iloc\n",
    "print(df.loc[0, 'Name'])  # Access by label\n",
    "print(df.iloc[1, 1])  # Access by position"
   ]
  },
  {
   "cell_type": "markdown",
   "id": "7906fbac",
   "metadata": {},
   "source": [
    "## Filtering Data\n",
    "Filtering allows you to extract specific rows based on conditions."
   ]
  },
  {
   "cell_type": "code",
   "execution_count": null,
   "id": "818b3b2f",
   "metadata": {},
   "outputs": [],
   "source": [
    "# Filtering DataFrame\n",
    "filtered_df = df[df['Age'] > 25]\n",
    "print(filtered_df)"
   ]
  },
  {
   "cell_type": "markdown",
   "id": "f0aed503",
   "metadata": {},
   "source": [
    "## Handling Missing Data\n",
    "Pandas provides functions to handle missing values efficiently."
   ]
  },
  {
   "cell_type": "code",
   "execution_count": null,
   "id": "291c1e3a",
   "metadata": {},
   "outputs": [],
   "source": [
    "# Handling missing values\n",
    "df_missing = pd.DataFrame({'A': [1, np.nan, 3], 'B': [4, 5, np.nan]})\n",
    "print('Original DataFrame:')\n",
    "print(df_missing)\n",
    "\n",
    "# Filling missing values\n",
    "df_filled = df_missing.fillna(0)\n",
    "print('Filled DataFrame:')\n",
    "print(df_filled)"
   ]
  },
  {
   "cell_type": "markdown",
   "id": "6342d944",
   "metadata": {},
   "source": [
    "## Grouping and Aggregation\n",
    "The `groupby()` function allows us to group data and perform aggregate operations."
   ]
  },
  {
   "cell_type": "code",
   "execution_count": null,
   "id": "46d8dfe0",
   "metadata": {},
   "outputs": [],
   "source": [
    "# Grouping and Aggregation\n",
    "data = {'Category': ['A', 'A', 'B', 'B'], 'Values': [10, 20, 30, 40]}\n",
    "df_group = pd.DataFrame(data)\n",
    "grouped = df_group.groupby('Category').sum()\n",
    "print(grouped)"
   ]
  },
  {
   "cell_type": "markdown",
   "id": "18546d3e",
   "metadata": {},
   "source": [
    "## Merging, Joining, and Concatenation\n",
    "Pandas allows combining multiple DataFrames using `merge()` and `concat()`."
   ]
  },
  {
   "cell_type": "code",
   "execution_count": null,
   "id": "53f1e80e",
   "metadata": {},
   "outputs": [],
   "source": [
    "# Merging DataFrames\n",
    "df1 = pd.DataFrame({'ID': [1, 2], 'Name': ['Alice', 'Bob']})\n",
    "df2 = pd.DataFrame({'ID': [1, 2], 'Score': [85, 90]})\n",
    "merged_df = pd.merge(df1, df2, on='ID')\n",
    "print(merged_df)"
   ]
  },
  {
   "cell_type": "markdown",
   "id": "060fccb8",
   "metadata": {},
   "source": [
    "## Sorting and Ranking\n",
    "Sorting and ranking functions help in organizing the data."
   ]
  },
  {
   "cell_type": "code",
   "execution_count": null,
   "id": "aa3a37cc",
   "metadata": {},
   "outputs": [],
   "source": [
    "# Sorting DataFrame\n",
    "sorted_df = df.sort_values(by='Age', ascending=False)\n",
    "print(sorted_df)"
   ]
  },
  {
   "cell_type": "markdown",
   "id": "d5c19675",
   "metadata": {},
   "source": [
    "## Apply Function and Lambda Operations\n",
    "The `apply()` function allows applying a function to DataFrame columns."
   ]
  },
  {
   "cell_type": "code",
   "execution_count": null,
   "id": "cc0cd6f3",
   "metadata": {},
   "outputs": [],
   "source": [
    "# Apply function\n",
    "df['Age Squared'] = df['Age'].apply(lambda x: x ** 2)\n",
    "print(df)"
   ]
  },
  {
   "cell_type": "markdown",
   "id": "56ddaf45",
   "metadata": {},
   "source": [
    "## Time Series Analysis\n",
    "Pandas provides powerful tools to work with time-series data."
   ]
  },
  {
   "cell_type": "code",
   "execution_count": null,
   "id": "bcadfea5",
   "metadata": {},
   "outputs": [],
   "source": [
    "# Creating a time series DataFrame\n",
    "date_rng = pd.date_range(start='2024-01-01', periods=5, freq='D')\n",
    "df_time = pd.DataFrame({'Date': date_rng, 'Value': [10, 20, 30, 40, 50]})\n",
    "df_time.set_index('Date', inplace=True)\n",
    "print(df_time)"
   ]
  },
  {
   "cell_type": "markdown",
   "id": "07913585",
   "metadata": {},
   "source": [
    "## Summary\n",
    "This tutorial covered the most important Pandas functions, including:\n",
    "- Creating DataFrames and Series\n",
    "- Reading and writing data\n",
    "- Indexing, selecting, and filtering\n",
    "- Handling missing values\n",
    "- Grouping and aggregation\n",
    "- Merging, joining, and concatenation\n",
    "- Sorting, ranking, and applying functions\n",
    "- Time series analysis\n",
    "\n",
    "Pandas is a powerful tool for data analysis, and mastering these concepts will greatly enhance your ability to work with data effectively!"
   ]
  }
 ],
 "metadata": {},
 "nbformat": 4,
 "nbformat_minor": 5
}
